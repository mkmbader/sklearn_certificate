{
 "cells": [
  {
   "cell_type": "markdown",
   "metadata": {},
   "source": [
    "# [Linear and Quadratic Discriminant Analysis](https://scikit-learn.org/stable/modules/lda_qda.html#estimation-algorithms)\n",
    "\n",
    "* Classifiers with closed form solution\n",
    "* Simple: multiclass & no hyperparameters\n",
    "* Linear and quadratic decision bounds\n",
    "* `LinearDiscriminantAnalysis` can be used for dimensionality reduction and is available in the `.transform` method\n",
    "* `QDA` is eqiuvalent to `naive_bays.GaussianNB` if the inputs are conditionally independend in each class\n",
    "* Regularization/Shrinkage can be used to improve the generalization performance of the classifier\n",
    "    * set solver to `lsqr` or `eigen`\n",
    "    * set shrinkage to `auto`\n"
   ]
  },
  {
   "cell_type": "markdown",
   "metadata": {},
   "source": [
    "## [Support Vector Machines](https://scikit-learn.org/stable/modules/svm.html)\n",
    "* Classification (`SVC`, `NuSVC`, `LinearSVC`), regression, outliers detection\n",
    "* Support vectors -> subset of training points within the margin (`.support_vectors_`). Cost function for building the model does not care about training points that lie on or beyond the margin.\n",
    "    * Margin: D(decision boudary, closest data points of each class), Goal -> maximize the margin (larger margin, better generalization)\n",
    "    * Deicion boundary: plane separating different classes\n",
    "* good where n features > n samples \n",
    "* They can handle non-linear decision bounds - so they are good for classifying complex data\n",
    "* Binary and Multi-class classification: one-versus-one for multi-class classification - binary classifier for every possible pair of classes\n",
    "* `SVC`, `NuSVC`: one-vs-one and then map to one-vs-rest with `decsiion_function` for per-class score\n",
    "* Scores are scaled with the Platt method (logit + cross-validation), but this has *limitations*\n",
    "    * Computationally expensive -> Kernel choice for optimization\n",
    "    * probability estimates can be incosistent with the scores (`predict` gives positive class even if `.predict_proba` < threshold)\n",
    "    * \"theoretical issues\"\n",
    "* has `class_weight` and `sample_weicth` method to deal with imbalance\n",
    "* Regularization is present\n",
    "* *Data has to be scaled!*\n",
    "* Outlier detection `OneClassSVM` -> unsupervised learning\n"
   ]
  },
  {
   "cell_type": "markdown",
   "metadata": {},
   "source": [
    "## [Stochastic Gradient Descent](https://scikit-learn.org/stable/modules/sgd.html#stochastic-gradient-descent)\n",
    "* A way to fit a model, such as linear classifiers & regressors (eg linear SVM, logit)\n",
    "* Efficient (fast) in large scale (>10k) and spare matrix ML problems, like text classification or NLP\n",
    "* Allows code tuning (from scratch), but requires hyperparameters\n",
    "* **Requires features caling!**\n",
    "* Training data needs to be shuffled\n",
    "* Regularization: good for >10k samples, otherwiase use Ridge, Lasso, ElasticNet\n",
    "* `early_stopping` -> True: train/test split, False: all data\n",
    "* For multi-class classification, a “one versus all” approach is used.\n"
   ]
  },
  {
   "cell_type": "markdown",
   "metadata": {},
   "source": [
    "## [Nearest Neighbors](https://scikit-learn.org/stable/modules/neighbors.html)\n",
    "* unsupervised and supervised neighbors-based learning\n",
    "* classification & regression\n",
    "* Find n closest instances to the new point and predict label from these\n",
    "    * kNN -> k nearest, user defined\n",
    "    * Number ased on local density -> radius-based\n",
    "* Classification: non-generalizing ML model -> \"stores\" all training data & does not generlaize. A new point is then assigned based on the training data\n",
    "* Efficient when decision boundary is very irregular\n",
    "* **Unsupervised** NN: \n",
    "    * brute-force `sklearn.metrics.pairwise`: Distance of all pairs\n",
    "    * `KDTree`: if point A is very distant from point B, and point B is very close to point C, then we know that points A and C are very distant.\n",
    "    *`BallTree`: recursively divides data into nodes defined by a centroid of radius r\n",
    "* Best in small or medimum sized data\n",
    "* Nearest Neighbors Regression use-cases\n",
    "    * Impute missing values\n",
    "    * time series forecasting\n",
    "    * geographical/spatial data\n"
   ]
  },
  {
   "cell_type": "markdown",
   "metadata": {
    "vscode": {
     "languageId": "plaintext"
    }
   },
   "source": [
    "SVM vs kNN\n",
    "- KNN can handle <span style=\"color:#1df5b4;\">sparse data</span> well since it directly considers the distance between data points. SVM, particularly with linear kernels, may struggle in high-dimensional spaces due to the curse of dimensionality, leading to overfitting or suboptimal decision boundaries. \n",
    "- KNN's instance-based approach allows it to leverage <span style=\"color:#1df5b4;\">local</span> structures in sparse data effec KNN is particularly effective when local neighborhoods carry significant information about class membership. In image recognition, slight variations in pixel values may lead to different classes, and KNN can capture these local nuances. SVM, in such cases, might form more global boundaries that overlook fine-grained local patterns.\n",
    "- KNN can effectively <span style=\"color:#1df5b4;\">impute</span> missing values based on the nearest neighbors, allowing for flexible data handling. \n",
    "- SVM is effective in <span style=\"color:#1df5b4;\">high-dimensional</span> spaces due to its focus on maximizing the margin between classes. KNN can struggle with the curse of dimensionality, where all points seem equidistant,\n",
    "- SVM works on the principle of maximizing the margin and has well-defined theoretical foundations that help with <span style=\"color:#1df5b4;\">generalization</span>\n",
    "- SVM can be adapted to <span style=\"color:#1df5b4;\">multi-class</span> classification effectively through strategies like “one-vs-one” or “one-vs-all.” These adaptations can lead to good performance even in multi-class settings. KNN, although it can also handle multi-class problems, may become computationally expensive as the number of classes increases because it needs to consider multiple neighbors for each prediction\n",
    "\n"
   ]
  },
  {
   "cell_type": "markdown",
   "metadata": {},
   "source": [
    "## [Gaussian Process](https://scikit-learn.org/stable/modules/gaussian_process.html)\n",
    "* nonparametric supervised learning method used to solve regression and classification problems.\n",
    "* cannot handle sparse features and is not good with n features > 12\n",
    "* probabilistic: gives a uncertainty for eaqch prediction\n",
    "* non-parametric->more flexibility"
   ]
  },
  {
   "cell_type": "markdown",
   "metadata": {},
   "source": [
    "## [Cross decomposition](https://scikit-learn.org/stable/modules/cross_decomposition.html)\n",
    "* dimensionality reduction and regression, belonging to the “Partial Least Squares” family.\n",
    "* dealing with high-dimensional data, allowing for effective dimensionality reduction and pattern recognition while also accounting for class labels in the data.\n",
    "* include Principal Component Analysis (PCA) and Partial Least Squares (PLS)."
   ]
  },
  {
   "cell_type": "markdown",
   "metadata": {},
   "source": [
    "## [Naive Bayes](https://scikit-learn.org/stable/modules/naive_bayes.html)\n",
    "*  algorithms based on applying Bayes’ theorem\n",
    "* good for document classification and spam filtering, not good for probability estimations\n",
    "* require a small amount of training data to estimate the necessary parameters\n",
    "* very fast"
   ]
  },
  {
   "cell_type": "markdown",
   "metadata": {},
   "source": [
    "## [Decision Trees](https://scikit-learn.org/stable/modules/tree.html)\n",
    "* Pro\n",
    "    * the deeper the tree, the more complex the decision rules and the fitter the model.\n",
    "    * does **not** need normalization \n",
    "    * Can handle missing values (`splitter = 'best'`). For `DecisionTreeClassifier` and `DecisionTreeRegressor`, missing values are classified in the same classes as training data. If no missing values during training it goes to the child with most samples. For `ExtraTreeClassifier` and `ExtraTreeRegregressor` missing values are split randomly\n",
    "    * can handle numeric, categorical (not in sklearn though) and sparse data\n",
    "    * can handle multi-output problems and provide class probabilities\n",
    "    * results can be interpreted and visualized\n",
    "* Con\n",
    "    * overfitting (avoid by prunin, min # samples, small tree depth)\n",
    "    * unstable with small variations in data -> use in ensemble\n",
    "    * predictions are not smooth or continuous, but stepwise\n",
    "    * can prioritized dominating classes -> balance data beforehand\n",
    "    * tends to overfit on data with large number of features -> do feature selection (or PCA, ICA) beforehand\n",
    "* Tips\n",
    "    * Start witha shallow tree (`max_depth` = 3) and then increase\n",
    "    * required n samples per depth doubles for each depth, use the `max_depth` to prevent overfitting\n",
    "    * `min_samples_split` or `min_samples_leaf` to ensure that multiple samples inform every decision in the tree. A very small number will usually mean the tree will overfit, whereas a large number will prevent the tree from learning the data. Try `min_samples_leaf=5` as an initial value. \n",
    "    * balance data before training\n",
    "    * input data fromat matters for speed an memory. if not `np.float32` a copy will be made, if data is sparse, use `csc_matrix`\n",
    "\n",
    "* visualize with `.plot_tree()`"
   ]
  },
  {
   "cell_type": "code",
   "execution_count": 1,
   "metadata": {},
   "outputs": [
    {
     "name": "stderr",
     "output_type": "stream",
     "text": [
      "Matplotlib is building the font cache; this may take a moment.\n"
     ]
    },
    {
     "data": {
      "text/plain": [
       "[Text(0.5, 0.9166666666666666, 'x[2] <= 2.45\\ngini = 0.667\\nsamples = 150\\nvalue = [50, 50, 50]'),\n",
       " Text(0.4230769230769231, 0.75, 'gini = 0.0\\nsamples = 50\\nvalue = [50, 0, 0]'),\n",
       " Text(0.46153846153846156, 0.8333333333333333, 'True  '),\n",
       " Text(0.5769230769230769, 0.75, 'x[3] <= 1.75\\ngini = 0.5\\nsamples = 100\\nvalue = [0, 50, 50]'),\n",
       " Text(0.5384615384615384, 0.8333333333333333, '  False'),\n",
       " Text(0.3076923076923077, 0.5833333333333334, 'x[2] <= 4.95\\ngini = 0.168\\nsamples = 54\\nvalue = [0, 49, 5]'),\n",
       " Text(0.15384615384615385, 0.4166666666666667, 'x[3] <= 1.65\\ngini = 0.041\\nsamples = 48\\nvalue = [0, 47, 1]'),\n",
       " Text(0.07692307692307693, 0.25, 'gini = 0.0\\nsamples = 47\\nvalue = [0, 47, 0]'),\n",
       " Text(0.23076923076923078, 0.25, 'gini = 0.0\\nsamples = 1\\nvalue = [0, 0, 1]'),\n",
       " Text(0.46153846153846156, 0.4166666666666667, 'x[3] <= 1.55\\ngini = 0.444\\nsamples = 6\\nvalue = [0, 2, 4]'),\n",
       " Text(0.38461538461538464, 0.25, 'gini = 0.0\\nsamples = 3\\nvalue = [0, 0, 3]'),\n",
       " Text(0.5384615384615384, 0.25, 'x[2] <= 5.45\\ngini = 0.444\\nsamples = 3\\nvalue = [0, 2, 1]'),\n",
       " Text(0.46153846153846156, 0.08333333333333333, 'gini = 0.0\\nsamples = 2\\nvalue = [0, 2, 0]'),\n",
       " Text(0.6153846153846154, 0.08333333333333333, 'gini = 0.0\\nsamples = 1\\nvalue = [0, 0, 1]'),\n",
       " Text(0.8461538461538461, 0.5833333333333334, 'x[2] <= 4.85\\ngini = 0.043\\nsamples = 46\\nvalue = [0, 1, 45]'),\n",
       " Text(0.7692307692307693, 0.4166666666666667, 'x[0] <= 5.95\\ngini = 0.444\\nsamples = 3\\nvalue = [0, 1, 2]'),\n",
       " Text(0.6923076923076923, 0.25, 'gini = 0.0\\nsamples = 1\\nvalue = [0, 1, 0]'),\n",
       " Text(0.8461538461538461, 0.25, 'gini = 0.0\\nsamples = 2\\nvalue = [0, 0, 2]'),\n",
       " Text(0.9230769230769231, 0.4166666666666667, 'gini = 0.0\\nsamples = 43\\nvalue = [0, 0, 43]')]"
      ]
     },
     "execution_count": 1,
     "metadata": {},
     "output_type": "execute_result"
    },
    {
     "data": {
      "image/png": "[encoded data removed]",
      "text/plain": [
       "<Figure size 640x480 with 1 Axes>"
      ]
     },
     "metadata": {},
     "output_type": "display_data"
    }
   ],
   "source": [
    "from sklearn.datasets import load_iris\n",
    "from sklearn import tree\n",
    "iris = load_iris()\n",
    "X, y = iris.data, iris.target\n",
    "clf = tree.DecisionTreeClassifier()\n",
    "clf = clf.fit(X, y)\n",
    "tree.plot_tree(clf)"
   ]
  },
  {
   "cell_type": "markdown",
   "metadata": {},
   "source": [
    "## [Ensembles](https://scikit-learn.org/stable/modules/ensemble.html)\n",
    "* <span style=\"color:#1df5b4;\">**Gradient boosted trees**</span>: \n",
    "\n",
    "NEXT: https://scikit-learn.org/stable/modules/ensemble.html\n"
   ]
  },
  {
   "cell_type": "markdown",
   "metadata": {},
   "source": []
  }
 ],
 "metadata": {
  "kernelspec": {
   "display_name": "sklearn_certificate",
   "language": "python",
   "name": "python3"
  },
  "language_info": {
   "codemirror_mode": {
    "name": "ipython",
    "version": 3
   },
   "file_extension": ".py",
   "mimetype": "text/x-python",
   "name": "python",
   "nbconvert_exporter": "python",
   "pygments_lexer": "ipython3",
   "version": "3.9.6"
  }
 },
 "nbformat": 4,
 "nbformat_minor": 2
}

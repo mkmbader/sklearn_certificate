{
 "cells": [
  {
   "cell_type": "markdown",
   "metadata": {},
   "source": [
    "# [Linear and Quadratic Discriminant Analysis](https://scikit-learn.org/stable/modules/lda_qda.html#estimation-algorithms)\n",
    "\n",
    "* Classifiers with closed form solution\n",
    "* Simple: multiclass & no hyperparameters\n",
    "* Linear and quadratic decision bounds\n",
    "* `LinearDiscriminantAnalysis` can be used for dimensionality reduction and is available in the `.transform` method\n",
    "* `QDA` is eqiuvalent to `naive_bays.GaussianNB` if the inputs are conditionally independend in each class\n",
    "* Regularization/Shrinkage can be used to improve the generalization performance of the classifier\n",
    "    * set solver to `lsqr` or `eigen`\n",
    "    * set shrinkage to `auto`\n"
   ]
  },
  {
   "cell_type": "markdown",
   "metadata": {},
   "source": [
    "NEXT: https://scikit-learn.org/stable/modules/svm.html"
   ]
  },
  {
   "cell_type": "markdown",
   "metadata": {},
   "source": []
  }
 ],
 "metadata": {
  "kernelspec": {
   "display_name": "sklearn_certificate",
   "language": "python",
   "name": "python3"
  },
  "language_info": {
   "name": "python",
   "version": "3.9.6"
  }
 },
 "nbformat": 4,
 "nbformat_minor": 2
}
